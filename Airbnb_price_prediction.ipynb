{
  "nbformat": 4,
  "nbformat_minor": 0,
  "metadata": {
    "colab": {
      "provenance": [],
      "authorship_tag": "ABX9TyNVYLcjRgqgwlXCJNwmLSnV",
      "include_colab_link": true
    },
    "kernelspec": {
      "name": "python3",
      "display_name": "Python 3"
    },
    "language_info": {
      "name": "python"
    }
  },
  "cells": [
    {
      "cell_type": "markdown",
      "metadata": {
        "id": "view-in-github",
        "colab_type": "text"
      },
      "source": [
        "<a href=\"https://colab.research.google.com/github/BalnurShulenbay/Data-Analysis/blob/Airbnb-price-prediction/Airbnb_price_prediction.ipynb\" target=\"_parent\"><img src=\"https://colab.research.google.com/assets/colab-badge.svg\" alt=\"Open In Colab\"/></a>"
      ]
    },
    {
      "cell_type": "markdown",
      "source": [
        "🏠 The goal is to set the competitive daily accomodation rate for a client's house in Bondi Beach. The owner currently charges $500. My goal is to estimate a fair value that the owner should be charging. The house has the following characteristics and constraints.\n",
        "\n",
        "* The owner has been a host since August 2010\n",
        "* The location is lon:151.274506, lat:33.889087\n",
        "* The current review score rating 95.0\n",
        "* Number of reviews 53\n",
        "* Minimum nights 4\n",
        "* The house can accomodate 10 people.\n",
        "* The owner currently charges a cleaning fee of 370\n",
        "* The house has 3 bathrooms, 5 bedrooms, 7 beds.\n",
        "* The house is available for 255 of the next 365 days\n",
        "* The client is verified, and they are a superhost.\n",
        "* The cancelation policy is strict with a 14 days grace period.\n",
        "* The host requires a security deposit of $1,500\n",
        "\n"
      ],
      "metadata": {
        "id": "7LwJInis30PD"
      }
    },
    {
      "cell_type": "markdown",
      "source": [
        "Loading the data :"
      ],
      "metadata": {
        "id": "QS1I0kyoIDIP"
      }
    },
    {
      "cell_type": "code",
      "source": [
        "import numpy as np\n",
        "import pandas as pd\n",
        "from pathlib import Path\n",
        "github_p=\"https://raw.githubusercontent.com/Finance-781/FinML/master/Lecture%202%20-%20End-to-End%20ML%20Project%20/Practice/\"\n",
        "df=pd.read_csv(github_p+'datasets/sydney_airbnb.csv')"
      ],
      "metadata": {
        "colab": {
          "base_uri": "https://localhost:8080/"
        },
        "id": "pQ9TOjidHP0S",
        "outputId": "8aa6ebb0-3178-491e-fe39-055bc7468de3"
      },
      "execution_count": null,
      "outputs": [
        {
          "output_type": "stream",
          "name": "stderr",
          "text": [
            "<ipython-input-2-39e3b091be8e>:5: DtypeWarning: Columns (36,54,55) have mixed types. Specify dtype option on import or set low_memory=False.\n",
            "  df=pd.read_csv(github_p+'datasets/sydney_airbnb.csv')\n"
          ]
        }
      ]
    },
    {
      "cell_type": "code",
      "source": [
        "# Getting the first 5 rows of the data frame\n",
        "df.head()"
      ],
      "metadata": {
        "colab": {
          "base_uri": "https://localhost:8080/",
          "height": 794
        },
        "id": "85XxxC_Nf5aT",
        "outputId": "7cd7cf9d-00fc-4a7a-9cd3-af3ef2785e4e"
      },
      "execution_count": null,
      "outputs": [
        {
          "output_type": "execute_result",
          "data": {
            "text/plain": [
              "      id                         listing_url  \\\n",
              "0  11156  https://www.airbnb.com/rooms/11156   \n",
              "1  12351  https://www.airbnb.com/rooms/12351   \n",
              "2  14250  https://www.airbnb.com/rooms/14250   \n",
              "3  14935  https://www.airbnb.com/rooms/14935   \n",
              "4  14974  https://www.airbnb.com/rooms/14974   \n",
              "\n",
              "                                     name  \\\n",
              "0                    An Oasis in the City   \n",
              "1       Sydney City & Harbour at the door   \n",
              "2                     Manly Harbour House   \n",
              "3  Eco-conscious Travellers: Private Room   \n",
              "4     Eco-conscious Traveller: Sofa Couch   \n",
              "\n",
              "                                             summary  \\\n",
              "0  Very central to the city which can be reached ...   \n",
              "1  Come stay with Vinh & Stuart (Awarded as one o...   \n",
              "2  Beautifully renovated, spacious and quiet, our...   \n",
              "3  Welcome! This apartment will suit a short term...   \n",
              "4  Welcome! This apartment will suit a short term...   \n",
              "\n",
              "                                               space  \\\n",
              "0  Potts Pt. is a vibrant  and popular inner-city...   \n",
              "1  We're pretty relaxed hosts, and we fully appre...   \n",
              "2  Our home is a thirty minute walk along the sea...   \n",
              "3  I live upstairs in my own room with my own bat...   \n",
              "4  Comes with a fully equipped gym and pool - whi...   \n",
              "\n",
              "                                         description  \\\n",
              "0  Very central to the city which can be reached ...   \n",
              "1  Come stay with Vinh & Stuart (Awarded as one o...   \n",
              "2  Beautifully renovated, spacious and quiet, our...   \n",
              "3  Welcome! This apartment will suit a short term...   \n",
              "4  Welcome! This apartment will suit a short term...   \n",
              "\n",
              "                               neighborhood_overview  \\\n",
              "0  It is very close to everything and everywhere,...   \n",
              "1  Pyrmont is an inner-city village of Sydney, on...   \n",
              "2  Balgowlah Heights is one of the most prestigio...   \n",
              "3                                                NaN   \n",
              "4                                                NaN   \n",
              "\n",
              "                                               notes  \\\n",
              "0  $150.00 key security deposit, refundable on re...   \n",
              "1  We've a few reasons for the 6.00pm arrival tim...   \n",
              "2                                                NaN   \n",
              "3  The building can be hard to find, so please en...   \n",
              "4  I live upstairs in my own room with my own bat...   \n",
              "\n",
              "                                             transit  \\\n",
              "0  It is 7 minutes walk to the Kings Cross.train ...   \n",
              "1  Our home is centrally located and an easy walk...   \n",
              "2  Balgowlah - Manly bus # 131 or #132  (Bus stop...   \n",
              "3  DIRECTIONS VIA TAXI: Get dropped off at Renwic...   \n",
              "4  DIRECTIONS VIA TAXI: Get dropped off at Renwic...   \n",
              "\n",
              "                                              access  ...  \\\n",
              "0   Kitchen & laundry facilities.   Shared bathroom.  ...   \n",
              "1  We look forward to welcoming you just as we wo...  ...   \n",
              "2  Guests have access to whole house except locke...  ...   \n",
              "3  I work from home most times - so if I'm home, ...  ...   \n",
              "4  I work from home most times - so if I'm home, ...  ...   \n",
              "\n",
              "  review_scores_checkin review_scores_communication review_scores_location  \\\n",
              "0                  10.0                        10.0                   10.0   \n",
              "1                  10.0                        10.0                   10.0   \n",
              "2                  10.0                         8.0                   10.0   \n",
              "3                   9.0                        10.0                    9.0   \n",
              "4                   9.0                         9.0                    9.0   \n",
              "\n",
              "   review_scores_value instant_bookable          cancellation_policy  \\\n",
              "0                  9.0                f                     moderate   \n",
              "1                 10.0                f  strict_14_with_grace_period   \n",
              "2                 10.0                f  strict_14_with_grace_period   \n",
              "3                  9.0                f                     moderate   \n",
              "4                  9.0                f                     moderate   \n",
              "\n",
              "  require_guest_profile_picture require_guest_phone_verification  \\\n",
              "0                             f                                f   \n",
              "1                             t                                t   \n",
              "2                             f                                f   \n",
              "3                             f                                f   \n",
              "4                             f                                f   \n",
              "\n",
              "  calculated_host_listings_count reviews_per_month  \n",
              "0                              1              1.69  \n",
              "1                              2              4.83  \n",
              "2                              2              0.03  \n",
              "3                              2              2.14  \n",
              "4                              2              1.78  \n",
              "\n",
              "[5 rows x 84 columns]"
            ],
            "text/html": [
              "\n",
              "  <div id=\"df-6d9939ac-5610-4fc4-8ece-b51d1657cc82\" class=\"colab-df-container\">\n",
              "    <div>\n",
              "<style scoped>\n",
              "    .dataframe tbody tr th:only-of-type {\n",
              "        vertical-align: middle;\n",
              "    }\n",
              "\n",
              "    .dataframe tbody tr th {\n",
              "        vertical-align: top;\n",
              "    }\n",
              "\n",
              "    .dataframe thead th {\n",
              "        text-align: right;\n",
              "    }\n",
              "</style>\n",
              "<table border=\"1\" class=\"dataframe\">\n",
              "  <thead>\n",
              "    <tr style=\"text-align: right;\">\n",
              "      <th></th>\n",
              "      <th>id</th>\n",
              "      <th>listing_url</th>\n",
              "      <th>name</th>\n",
              "      <th>summary</th>\n",
              "      <th>space</th>\n",
              "      <th>description</th>\n",
              "      <th>neighborhood_overview</th>\n",
              "      <th>notes</th>\n",
              "      <th>transit</th>\n",
              "      <th>access</th>\n",
              "      <th>...</th>\n",
              "      <th>review_scores_checkin</th>\n",
              "      <th>review_scores_communication</th>\n",
              "      <th>review_scores_location</th>\n",
              "      <th>review_scores_value</th>\n",
              "      <th>instant_bookable</th>\n",
              "      <th>cancellation_policy</th>\n",
              "      <th>require_guest_profile_picture</th>\n",
              "      <th>require_guest_phone_verification</th>\n",
              "      <th>calculated_host_listings_count</th>\n",
              "      <th>reviews_per_month</th>\n",
              "    </tr>\n",
              "  </thead>\n",
              "  <tbody>\n",
              "    <tr>\n",
              "      <th>0</th>\n",
              "      <td>11156</td>\n",
              "      <td>https://www.airbnb.com/rooms/11156</td>\n",
              "      <td>An Oasis in the City</td>\n",
              "      <td>Very central to the city which can be reached ...</td>\n",
              "      <td>Potts Pt. is a vibrant  and popular inner-city...</td>\n",
              "      <td>Very central to the city which can be reached ...</td>\n",
              "      <td>It is very close to everything and everywhere,...</td>\n",
              "      <td>$150.00 key security deposit, refundable on re...</td>\n",
              "      <td>It is 7 minutes walk to the Kings Cross.train ...</td>\n",
              "      <td>Kitchen &amp; laundry facilities.   Shared bathroom.</td>\n",
              "      <td>...</td>\n",
              "      <td>10.0</td>\n",
              "      <td>10.0</td>\n",
              "      <td>10.0</td>\n",
              "      <td>9.0</td>\n",
              "      <td>f</td>\n",
              "      <td>moderate</td>\n",
              "      <td>f</td>\n",
              "      <td>f</td>\n",
              "      <td>1</td>\n",
              "      <td>1.69</td>\n",
              "    </tr>\n",
              "    <tr>\n",
              "      <th>1</th>\n",
              "      <td>12351</td>\n",
              "      <td>https://www.airbnb.com/rooms/12351</td>\n",
              "      <td>Sydney City &amp; Harbour at the door</td>\n",
              "      <td>Come stay with Vinh &amp; Stuart (Awarded as one o...</td>\n",
              "      <td>We're pretty relaxed hosts, and we fully appre...</td>\n",
              "      <td>Come stay with Vinh &amp; Stuart (Awarded as one o...</td>\n",
              "      <td>Pyrmont is an inner-city village of Sydney, on...</td>\n",
              "      <td>We've a few reasons for the 6.00pm arrival tim...</td>\n",
              "      <td>Our home is centrally located and an easy walk...</td>\n",
              "      <td>We look forward to welcoming you just as we wo...</td>\n",
              "      <td>...</td>\n",
              "      <td>10.0</td>\n",
              "      <td>10.0</td>\n",
              "      <td>10.0</td>\n",
              "      <td>10.0</td>\n",
              "      <td>f</td>\n",
              "      <td>strict_14_with_grace_period</td>\n",
              "      <td>t</td>\n",
              "      <td>t</td>\n",
              "      <td>2</td>\n",
              "      <td>4.83</td>\n",
              "    </tr>\n",
              "    <tr>\n",
              "      <th>2</th>\n",
              "      <td>14250</td>\n",
              "      <td>https://www.airbnb.com/rooms/14250</td>\n",
              "      <td>Manly Harbour House</td>\n",
              "      <td>Beautifully renovated, spacious and quiet, our...</td>\n",
              "      <td>Our home is a thirty minute walk along the sea...</td>\n",
              "      <td>Beautifully renovated, spacious and quiet, our...</td>\n",
              "      <td>Balgowlah Heights is one of the most prestigio...</td>\n",
              "      <td>NaN</td>\n",
              "      <td>Balgowlah - Manly bus # 131 or #132  (Bus stop...</td>\n",
              "      <td>Guests have access to whole house except locke...</td>\n",
              "      <td>...</td>\n",
              "      <td>10.0</td>\n",
              "      <td>8.0</td>\n",
              "      <td>10.0</td>\n",
              "      <td>10.0</td>\n",
              "      <td>f</td>\n",
              "      <td>strict_14_with_grace_period</td>\n",
              "      <td>f</td>\n",
              "      <td>f</td>\n",
              "      <td>2</td>\n",
              "      <td>0.03</td>\n",
              "    </tr>\n",
              "    <tr>\n",
              "      <th>3</th>\n",
              "      <td>14935</td>\n",
              "      <td>https://www.airbnb.com/rooms/14935</td>\n",
              "      <td>Eco-conscious Travellers: Private Room</td>\n",
              "      <td>Welcome! This apartment will suit a short term...</td>\n",
              "      <td>I live upstairs in my own room with my own bat...</td>\n",
              "      <td>Welcome! This apartment will suit a short term...</td>\n",
              "      <td>NaN</td>\n",
              "      <td>The building can be hard to find, so please en...</td>\n",
              "      <td>DIRECTIONS VIA TAXI: Get dropped off at Renwic...</td>\n",
              "      <td>I work from home most times - so if I'm home, ...</td>\n",
              "      <td>...</td>\n",
              "      <td>9.0</td>\n",
              "      <td>10.0</td>\n",
              "      <td>9.0</td>\n",
              "      <td>9.0</td>\n",
              "      <td>f</td>\n",
              "      <td>moderate</td>\n",
              "      <td>f</td>\n",
              "      <td>f</td>\n",
              "      <td>2</td>\n",
              "      <td>2.14</td>\n",
              "    </tr>\n",
              "    <tr>\n",
              "      <th>4</th>\n",
              "      <td>14974</td>\n",
              "      <td>https://www.airbnb.com/rooms/14974</td>\n",
              "      <td>Eco-conscious Traveller: Sofa Couch</td>\n",
              "      <td>Welcome! This apartment will suit a short term...</td>\n",
              "      <td>Comes with a fully equipped gym and pool - whi...</td>\n",
              "      <td>Welcome! This apartment will suit a short term...</td>\n",
              "      <td>NaN</td>\n",
              "      <td>I live upstairs in my own room with my own bat...</td>\n",
              "      <td>DIRECTIONS VIA TAXI: Get dropped off at Renwic...</td>\n",
              "      <td>I work from home most times - so if I'm home, ...</td>\n",
              "      <td>...</td>\n",
              "      <td>9.0</td>\n",
              "      <td>9.0</td>\n",
              "      <td>9.0</td>\n",
              "      <td>9.0</td>\n",
              "      <td>f</td>\n",
              "      <td>moderate</td>\n",
              "      <td>f</td>\n",
              "      <td>f</td>\n",
              "      <td>2</td>\n",
              "      <td>1.78</td>\n",
              "    </tr>\n",
              "  </tbody>\n",
              "</table>\n",
              "<p>5 rows × 84 columns</p>\n",
              "</div>\n",
              "    <div class=\"colab-df-buttons\">\n",
              "\n",
              "  <div class=\"colab-df-container\">\n",
              "    <button class=\"colab-df-convert\" onclick=\"convertToInteractive('df-6d9939ac-5610-4fc4-8ece-b51d1657cc82')\"\n",
              "            title=\"Convert this dataframe to an interactive table.\"\n",
              "            style=\"display:none;\">\n",
              "\n",
              "  <svg xmlns=\"http://www.w3.org/2000/svg\" height=\"24px\" viewBox=\"0 -960 960 960\">\n",
              "    <path d=\"M120-120v-720h720v720H120Zm60-500h600v-160H180v160Zm220 220h160v-160H400v160Zm0 220h160v-160H400v160ZM180-400h160v-160H180v160Zm440 0h160v-160H620v160ZM180-180h160v-160H180v160Zm440 0h160v-160H620v160Z\"/>\n",
              "  </svg>\n",
              "    </button>\n",
              "\n",
              "  <style>\n",
              "    .colab-df-container {\n",
              "      display:flex;\n",
              "      gap: 12px;\n",
              "    }\n",
              "\n",
              "    .colab-df-convert {\n",
              "      background-color: #E8F0FE;\n",
              "      border: none;\n",
              "      border-radius: 50%;\n",
              "      cursor: pointer;\n",
              "      display: none;\n",
              "      fill: #1967D2;\n",
              "      height: 32px;\n",
              "      padding: 0 0 0 0;\n",
              "      width: 32px;\n",
              "    }\n",
              "\n",
              "    .colab-df-convert:hover {\n",
              "      background-color: #E2EBFA;\n",
              "      box-shadow: 0px 1px 2px rgba(60, 64, 67, 0.3), 0px 1px 3px 1px rgba(60, 64, 67, 0.15);\n",
              "      fill: #174EA6;\n",
              "    }\n",
              "\n",
              "    .colab-df-buttons div {\n",
              "      margin-bottom: 4px;\n",
              "    }\n",
              "\n",
              "    [theme=dark] .colab-df-convert {\n",
              "      background-color: #3B4455;\n",
              "      fill: #D2E3FC;\n",
              "    }\n",
              "\n",
              "    [theme=dark] .colab-df-convert:hover {\n",
              "      background-color: #434B5C;\n",
              "      box-shadow: 0px 1px 3px 1px rgba(0, 0, 0, 0.15);\n",
              "      filter: drop-shadow(0px 1px 2px rgba(0, 0, 0, 0.3));\n",
              "      fill: #FFFFFF;\n",
              "    }\n",
              "  </style>\n",
              "\n",
              "    <script>\n",
              "      const buttonEl =\n",
              "        document.querySelector('#df-6d9939ac-5610-4fc4-8ece-b51d1657cc82 button.colab-df-convert');\n",
              "      buttonEl.style.display =\n",
              "        google.colab.kernel.accessAllowed ? 'block' : 'none';\n",
              "\n",
              "      async function convertToInteractive(key) {\n",
              "        const element = document.querySelector('#df-6d9939ac-5610-4fc4-8ece-b51d1657cc82');\n",
              "        const dataTable =\n",
              "          await google.colab.kernel.invokeFunction('convertToInteractive',\n",
              "                                                    [key], {});\n",
              "        if (!dataTable) return;\n",
              "\n",
              "        const docLinkHtml = 'Like what you see? Visit the ' +\n",
              "          '<a target=\"_blank\" href=https://colab.research.google.com/notebooks/data_table.ipynb>data table notebook</a>'\n",
              "          + ' to learn more about interactive tables.';\n",
              "        element.innerHTML = '';\n",
              "        dataTable['output_type'] = 'display_data';\n",
              "        await google.colab.output.renderOutput(dataTable, element);\n",
              "        const docLink = document.createElement('div');\n",
              "        docLink.innerHTML = docLinkHtml;\n",
              "        element.appendChild(docLink);\n",
              "      }\n",
              "    </script>\n",
              "  </div>\n",
              "\n",
              "\n",
              "<div id=\"df-b1124045-0acc-4fa6-a8a5-639737815eb9\">\n",
              "  <button class=\"colab-df-quickchart\" onclick=\"quickchart('df-b1124045-0acc-4fa6-a8a5-639737815eb9')\"\n",
              "            title=\"Suggest charts\"\n",
              "            style=\"display:none;\">\n",
              "\n",
              "<svg xmlns=\"http://www.w3.org/2000/svg\" height=\"24px\"viewBox=\"0 0 24 24\"\n",
              "     width=\"24px\">\n",
              "    <g>\n",
              "        <path d=\"M19 3H5c-1.1 0-2 .9-2 2v14c0 1.1.9 2 2 2h14c1.1 0 2-.9 2-2V5c0-1.1-.9-2-2-2zM9 17H7v-7h2v7zm4 0h-2V7h2v10zm4 0h-2v-4h2v4z\"/>\n",
              "    </g>\n",
              "</svg>\n",
              "  </button>\n",
              "\n",
              "<style>\n",
              "  .colab-df-quickchart {\n",
              "      --bg-color: #E8F0FE;\n",
              "      --fill-color: #1967D2;\n",
              "      --hover-bg-color: #E2EBFA;\n",
              "      --hover-fill-color: #174EA6;\n",
              "      --disabled-fill-color: #AAA;\n",
              "      --disabled-bg-color: #DDD;\n",
              "  }\n",
              "\n",
              "  [theme=dark] .colab-df-quickchart {\n",
              "      --bg-color: #3B4455;\n",
              "      --fill-color: #D2E3FC;\n",
              "      --hover-bg-color: #434B5C;\n",
              "      --hover-fill-color: #FFFFFF;\n",
              "      --disabled-bg-color: #3B4455;\n",
              "      --disabled-fill-color: #666;\n",
              "  }\n",
              "\n",
              "  .colab-df-quickchart {\n",
              "    background-color: var(--bg-color);\n",
              "    border: none;\n",
              "    border-radius: 50%;\n",
              "    cursor: pointer;\n",
              "    display: none;\n",
              "    fill: var(--fill-color);\n",
              "    height: 32px;\n",
              "    padding: 0;\n",
              "    width: 32px;\n",
              "  }\n",
              "\n",
              "  .colab-df-quickchart:hover {\n",
              "    background-color: var(--hover-bg-color);\n",
              "    box-shadow: 0 1px 2px rgba(60, 64, 67, 0.3), 0 1px 3px 1px rgba(60, 64, 67, 0.15);\n",
              "    fill: var(--button-hover-fill-color);\n",
              "  }\n",
              "\n",
              "  .colab-df-quickchart-complete:disabled,\n",
              "  .colab-df-quickchart-complete:disabled:hover {\n",
              "    background-color: var(--disabled-bg-color);\n",
              "    fill: var(--disabled-fill-color);\n",
              "    box-shadow: none;\n",
              "  }\n",
              "\n",
              "  .colab-df-spinner {\n",
              "    border: 2px solid var(--fill-color);\n",
              "    border-color: transparent;\n",
              "    border-bottom-color: var(--fill-color);\n",
              "    animation:\n",
              "      spin 1s steps(1) infinite;\n",
              "  }\n",
              "\n",
              "  @keyframes spin {\n",
              "    0% {\n",
              "      border-color: transparent;\n",
              "      border-bottom-color: var(--fill-color);\n",
              "      border-left-color: var(--fill-color);\n",
              "    }\n",
              "    20% {\n",
              "      border-color: transparent;\n",
              "      border-left-color: var(--fill-color);\n",
              "      border-top-color: var(--fill-color);\n",
              "    }\n",
              "    30% {\n",
              "      border-color: transparent;\n",
              "      border-left-color: var(--fill-color);\n",
              "      border-top-color: var(--fill-color);\n",
              "      border-right-color: var(--fill-color);\n",
              "    }\n",
              "    40% {\n",
              "      border-color: transparent;\n",
              "      border-right-color: var(--fill-color);\n",
              "      border-top-color: var(--fill-color);\n",
              "    }\n",
              "    60% {\n",
              "      border-color: transparent;\n",
              "      border-right-color: var(--fill-color);\n",
              "    }\n",
              "    80% {\n",
              "      border-color: transparent;\n",
              "      border-right-color: var(--fill-color);\n",
              "      border-bottom-color: var(--fill-color);\n",
              "    }\n",
              "    90% {\n",
              "      border-color: transparent;\n",
              "      border-bottom-color: var(--fill-color);\n",
              "    }\n",
              "  }\n",
              "</style>\n",
              "\n",
              "  <script>\n",
              "    async function quickchart(key) {\n",
              "      const quickchartButtonEl =\n",
              "        document.querySelector('#' + key + ' button');\n",
              "      quickchartButtonEl.disabled = true;  // To prevent multiple clicks.\n",
              "      quickchartButtonEl.classList.add('colab-df-spinner');\n",
              "      try {\n",
              "        const charts = await google.colab.kernel.invokeFunction(\n",
              "            'suggestCharts', [key], {});\n",
              "      } catch (error) {\n",
              "        console.error('Error during call to suggestCharts:', error);\n",
              "      }\n",
              "      quickchartButtonEl.classList.remove('colab-df-spinner');\n",
              "      quickchartButtonEl.classList.add('colab-df-quickchart-complete');\n",
              "    }\n",
              "    (() => {\n",
              "      let quickchartButtonEl =\n",
              "        document.querySelector('#df-b1124045-0acc-4fa6-a8a5-639737815eb9 button');\n",
              "      quickchartButtonEl.style.display =\n",
              "        google.colab.kernel.accessAllowed ? 'block' : 'none';\n",
              "    })();\n",
              "  </script>\n",
              "</div>\n",
              "\n",
              "    </div>\n",
              "  </div>\n"
            ],
            "application/vnd.google.colaboratory.intrinsic+json": {
              "type": "dataframe",
              "variable_name": "df"
            }
          },
          "metadata": {},
          "execution_count": 3
        }
      ]
    },
    {
      "cell_type": "markdown",
      "source": [
        "Check for nulls"
      ],
      "metadata": {
        "id": "ZtLlvFfRLS7e"
      }
    },
    {
      "cell_type": "code",
      "source": [
        "print(df.isnull().sum())"
      ],
      "metadata": {
        "colab": {
          "base_uri": "https://localhost:8080/"
        },
        "id": "VIkMHTVEg6h-",
        "outputId": "bc09a6da-1103-4943-d59a-fef64002e94a"
      },
      "execution_count": null,
      "outputs": [
        {
          "output_type": "stream",
          "name": "stdout",
          "text": [
            "id                                     0\n",
            "listing_url                            0\n",
            "name                                  14\n",
            "summary                              305\n",
            "space                               8262\n",
            "                                    ... \n",
            "cancellation_policy                    0\n",
            "require_guest_profile_picture          0\n",
            "require_guest_phone_verification       0\n",
            "calculated_host_listings_count         0\n",
            "reviews_per_month                   6824\n",
            "Length: 84, dtype: int64\n"
          ]
        }
      ]
    },
    {
      "cell_type": "markdown",
      "source": [
        "Filling the nulls"
      ],
      "metadata": {
        "id": "2cX8O7HfLrRG"
      }
    },
    {
      "cell_type": "code",
      "source": [
        "df['name'] = df['name'].fillna(\"Unknown\")\n",
        "df['summary'] = df['summary'].fillna(\"No description\")\n",
        "df['reviews_per_month'] = df['reviews_per_month'].fillna(0)"
      ],
      "metadata": {
        "id": "kOYwZJvIhhC6"
      },
      "execution_count": null,
      "outputs": []
    },
    {
      "cell_type": "code",
      "source": [
        "# Buiding overall descriptive plots\n",
        "import matplotlib.pyplot as plt\n",
        "import seaborn as sns\n",
        "\n",
        "df_filtered=df[['review_scores_rating', 'number_of_reviews',\n",
        "    'accommodates', 'cleaning_fee', 'bathrooms', 'bedrooms', 'beds', 'security_deposit']]\n",
        "df_filtered.hist(figsize=(12,8),bins=30,edgecolor='black')\n",
        "plt.show()"
      ],
      "metadata": {
        "id": "0w2LmNp_NqvX",
        "colab": {
          "base_uri": "https://localhost:8080/",
          "height": 699
        },
        "outputId": "de487f34-4003-4155-8baf-f36ee3ff2b48"
      },
      "execution_count": null,
      "outputs": [
        {
          "output_type": "display_data",
          "data": {
            "text/plain": [
              "<Figure size 1200x800 with 6 Axes>"
            ],
            "image/png": "[encoded data removed]"
          },
          "metadata": {}
        }
      ]
    },
    {
      "cell_type": "code",
      "source": [
        "# Limiting the neighbourhood to Bondi beach\n",
        "bondi_df = df[df['neighbourhood']== \"Bondi Beach\"].copy()\n",
        "\n",
        "# Convert price-related columns to numeric safely\n",
        "price_columns = ['price', 'cleaning_fee', 'security_deposit']\n",
        "bondi_df[price_columns] = bondi_df[price_columns].replace('[\\$,]', '', regex=True).astype(float)\n",
        "\n",
        "# Convert categorical variables safely\n",
        "bondi_df['host_is_superhost'] = bondi_df['host_is_superhost'].replace({'t': 1, 'f': 0})\n"
      ],
      "metadata": {
        "id": "bIrl3e0jkZeX",
        "colab": {
          "base_uri": "https://localhost:8080/"
        },
        "outputId": "1ca226ee-b072-4bdd-b107-712e1384e110"
      },
      "execution_count": null,
      "outputs": [
        {
          "output_type": "stream",
          "name": "stderr",
          "text": [
            "<ipython-input-7-df3b66e38c81>:8: FutureWarning: Downcasting behavior in `replace` is deprecated and will be removed in a future version. To retain the old behavior, explicitly call `result.infer_objects(copy=False)`. To opt-in to the future behavior, set `pd.set_option('future.no_silent_downcasting', True)`\n",
            "  bondi_df['host_is_superhost'] = bondi_df['host_is_superhost'].replace({'t': 1, 'f': 0})\n"
          ]
        }
      ]
    },
    {
      "cell_type": "code",
      "source": [
        "# PLotting the Price distibution in Bondi Beach\n",
        "plt.figure(figsize=(12, 6))\n",
        "plt.hist(bondi_df['price'], bins=50, edgecolor='black', alpha=0.7)\n",
        "\n",
        "# Add labels and title\n",
        "plt.title(\"Price Distribution in Bondi Beach\")\n",
        "plt.xlabel(\"Price ($)\")\n",
        "plt.ylabel(\"Frequency\")\n",
        "\n",
        "# Show the plot\n",
        "plt.show()"
      ],
      "metadata": {
        "colab": {
          "base_uri": "https://localhost:8080/",
          "height": 564
        },
        "id": "rzyDOIwYsxBH",
        "outputId": "a36353c9-78e1-4041-b0aa-d0e9c5f99649"
      },
      "execution_count": null,
      "outputs": [
        {
          "output_type": "display_data",
          "data": {
            "text/plain": [
              "<Figure size 1200x600 with 1 Axes>"
            ],
            "image/png": "[encoded data removed]"
          },
          "metadata": {}
        }
      ]
    },
    {
      "cell_type": "code",
      "source": [
        "# Defining the important columns as features\n",
        "features = [\n",
        "    'host_is_superhost', 'accommodates', 'bathrooms', 'bedrooms', 'beds',\n",
        "    'review_scores_rating', 'number_of_reviews', 'cleaning_fee',\n",
        "    'security_deposit', 'availability_365', 'longitude', 'latitude'\n",
        "]\n",
        "# Defining the X and the Y for the future modules\n",
        "X = bondi_df[features]\n",
        "y = bondi_df['price']"
      ],
      "metadata": {
        "id": "PZLELoKHk-T-"
      },
      "execution_count": null,
      "outputs": []
    },
    {
      "cell_type": "code",
      "source": [
        "X.dtypes"
      ],
      "metadata": {
        "colab": {
          "base_uri": "https://localhost:8080/",
          "height": 460
        },
        "id": "Csw7M0kocXs8",
        "outputId": "5b987acf-5b53-4c8c-abe9-69f3fa0c09c6"
      },
      "execution_count": null,
      "outputs": [
        {
          "output_type": "execute_result",
          "data": {
            "text/plain": [
              "host_is_superhost       float64\n",
              "accommodates              int64\n",
              "bathrooms               float64\n",
              "bedrooms                float64\n",
              "beds                    float64\n",
              "review_scores_rating    float64\n",
              "number_of_reviews         int64\n",
              "cleaning_fee            float64\n",
              "security_deposit        float64\n",
              "availability_365          int64\n",
              "longitude               float64\n",
              "latitude                float64\n",
              "dtype: object"
            ],
            "text/html": [
              "<div>\n",
              "<style scoped>\n",
              "    .dataframe tbody tr th:only-of-type {\n",
              "        vertical-align: middle;\n",
              "    }\n",
              "\n",
              "    .dataframe tbody tr th {\n",
              "        vertical-align: top;\n",
              "    }\n",
              "\n",
              "    .dataframe thead th {\n",
              "        text-align: right;\n",
              "    }\n",
              "</style>\n",
              "<table border=\"1\" class=\"dataframe\">\n",
              "  <thead>\n",
              "    <tr style=\"text-align: right;\">\n",
              "      <th></th>\n",
              "      <th>0</th>\n",
              "    </tr>\n",
              "  </thead>\n",
              "  <tbody>\n",
              "    <tr>\n",
              "      <th>host_is_superhost</th>\n",
              "      <td>float64</td>\n",
              "    </tr>\n",
              "    <tr>\n",
              "      <th>accommodates</th>\n",
              "      <td>int64</td>\n",
              "    </tr>\n",
              "    <tr>\n",
              "      <th>bathrooms</th>\n",
              "      <td>float64</td>\n",
              "    </tr>\n",
              "    <tr>\n",
              "      <th>bedrooms</th>\n",
              "      <td>float64</td>\n",
              "    </tr>\n",
              "    <tr>\n",
              "      <th>beds</th>\n",
              "      <td>float64</td>\n",
              "    </tr>\n",
              "    <tr>\n",
              "      <th>review_scores_rating</th>\n",
              "      <td>float64</td>\n",
              "    </tr>\n",
              "    <tr>\n",
              "      <th>number_of_reviews</th>\n",
              "      <td>int64</td>\n",
              "    </tr>\n",
              "    <tr>\n",
              "      <th>cleaning_fee</th>\n",
              "      <td>float64</td>\n",
              "    </tr>\n",
              "    <tr>\n",
              "      <th>security_deposit</th>\n",
              "      <td>float64</td>\n",
              "    </tr>\n",
              "    <tr>\n",
              "      <th>availability_365</th>\n",
              "      <td>int64</td>\n",
              "    </tr>\n",
              "    <tr>\n",
              "      <th>longitude</th>\n",
              "      <td>float64</td>\n",
              "    </tr>\n",
              "    <tr>\n",
              "      <th>latitude</th>\n",
              "      <td>float64</td>\n",
              "    </tr>\n",
              "  </tbody>\n",
              "</table>\n",
              "</div><br><label><b>dtype:</b> object</label>"
            ]
          },
          "metadata": {},
          "execution_count": 17
        }
      ]
    },
    {
      "cell_type": "code",
      "source": [
        "from sklearn.model_selection import train_test_split, cross_val_score\n",
        "from sklearn.ensemble import RandomForestRegressor\n",
        "from sklearn.metrics import mean_absolute_error\n",
        "\n",
        "# Deviding the data into test and train data\n",
        "X_train, X_test, y_train, y_test = train_test_split(X, y, test_size=0.2,random_state=42)\n",
        "\n",
        "# Using Random Forest Model\n",
        "model = RandomForestRegressor(n_estimators=100,random_state=42)\n",
        "model.fit(X_train, y_train)\n",
        "\n",
        "# Calculating Mean Absolute Error\n",
        "scores = cross_val_score(model, X, y, cv=5, scoring=\"neg_mean_absolute_error\")\n",
        "print(f\"Mean Absolute Error: ${-scores.mean():.2f}\")\n"
      ],
      "metadata": {
        "colab": {
          "base_uri": "https://localhost:8080/"
        },
        "id": "wMw1MjUtzd7D",
        "outputId": "7e81428c-4eef-43c9-b568-f0a564e3f63f"
      },
      "execution_count": null,
      "outputs": [
        {
          "output_type": "stream",
          "name": "stdout",
          "text": [
            "Mean Absolute Error: $83.90\n"
          ]
        }
      ]
    },
    {
      "cell_type": "code",
      "source": [
        "# Getting the average price\n",
        "mean_price = y.mean()\n",
        "print(f\"Average Listing Price: ${mean_price:.2f}\")"
      ],
      "metadata": {
        "colab": {
          "base_uri": "https://localhost:8080/"
        },
        "id": "p_zRARizdBT1",
        "outputId": "ef0f2cb0-24d9-4045-ba8f-87d9fa99d247"
      },
      "execution_count": null,
      "outputs": [
        {
          "output_type": "stream",
          "name": "stdout",
          "text": [
            "Average Listing Price: $207.08\n"
          ]
        }
      ]
    },
    {
      "cell_type": "code",
      "source": [
        "# Define the client's house features\n",
        "client_house = pd.DataFrame({\n",
        "    'host_is_superhost': [1],\n",
        "    'accommodates': [10],\n",
        "    'bathrooms': [3],\n",
        "    'bedrooms': [5],\n",
        "    'beds': [7],\n",
        "    'review_scores_rating': [95.0],\n",
        "    'number_of_reviews': [53],\n",
        "    'cleaning_fee': [370],\n",
        "    'security_deposit': [1500],\n",
        "    'availability_365': [255],\n",
        "    'longitude': [151.274506],\n",
        "    'latitude': [33.889087]\n",
        "})\n",
        "\n",
        "# Predict the price\n",
        "predicted_price = model.predict(client_house)[0]\n",
        "print(f\"Estimated Fair Price: ${predicted_price:.2f} per night\")"
      ],
      "metadata": {
        "colab": {
          "base_uri": "https://localhost:8080/"
        },
        "id": "IYhn-wynljTx",
        "outputId": "afccf5ed-8d05-44f5-9213-6811981d1532"
      },
      "execution_count": null,
      "outputs": [
        {
          "output_type": "stream",
          "name": "stdout",
          "text": [
            "Estimated Fair Price: $805.08 per night\n"
          ]
        }
      ]
    }
  ]
}